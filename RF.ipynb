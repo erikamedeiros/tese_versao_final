{
 "cells": [
  {
   "cell_type": "code",
   "execution_count": 1,
   "id": "07d16b53",
   "metadata": {},
   "outputs": [],
   "source": [
    "#PIPELINE RF ATUM"
   ]
  },
  {
   "cell_type": "code",
   "execution_count": 1,
   "id": "30ce0f9a",
   "metadata": {},
   "outputs": [],
   "source": [
    "#IMPORTAR AS BIBLIOTECAS\n",
    "from pandas import DataFrame                      \n",
    "import pandas as pd\n",
    "import numpy as np\n",
    "import matplotlib.pyplot as plt                       \n",
    "import seaborn as sns                                    \n",
    "from sklearn.model_selection import train_test_split    \n",
    "from sklearn.model_selection import cross_val_score\n",
    "from sklearn.metrics import accuracy_score\n",
    "from sklearn.model_selection import StratifiedKFold\n",
    "from sklearn.model_selection import GridSearchCV     \n",
    "from matplotlib import pyplot\n",
    "from numpy import mean\n",
    "import time\n",
    "\n",
    "#Classifier\n",
    "from sklearn.ensemble import RandomForestClassifier\n",
    "\n",
    "#Feature selection\n",
    "from sklearn.feature_selection import VarianceThreshold # Feature selector\n",
    "\n",
    "#Feature extraction\n",
    "from sklearn.decomposition import PCA  \n",
    "from sklearn.discriminant_analysis import LinearDiscriminantAnalysis\n",
    "from sklearn.manifold import LocallyLinearEmbedding\n",
    "\n",
    "# class balancing\n",
    "from imblearn.over_sampling import SMOTE\n",
    "\n",
    "# For setting up pipeline\n",
    "from imblearn.pipeline import Pipeline                               \n",
    "\n",
    "# Various pre-processing steps\n",
    "from sklearn.preprocessing import Normalizer, StandardScaler, MinMaxScaler, MaxAbsScaler"
   ]
  },
  {
   "cell_type": "code",
   "execution_count": 2,
   "id": "4332d6a3",
   "metadata": {},
   "outputs": [],
   "source": [
    "#define dataset\n",
    "dataset = pd.read_csv('dataset_tuna.csv', sep=';')  \n",
    "del dataset[\"imgName\"]\n",
    "\n",
    "# The data matrix X\n",
    "X = dataset\n",
    "# The labels\n",
    "y = pd.Series([1, 1, 1, 1, 0, 1, 1, 1, 1, 1, 1, 1, 1, 1, 3, 3, 3, 0, 2, 2, 1, 3, 0, 2, 1, 3, 2, 1, 3, 0, 0, 2, 2, 1, 3, 3, 1, 3, 0, 2, 3, 0, 2, 0, 0, 0, 1, 0, 0, 0, 0, 0, 0, 2, 3, 0, 0, 2, 0, 2, 3, 2, 0, 0, 0, 0, 0, 2, 2, 0, 3, 0, 0, 0, 3, 3, 0, 3, 2, 3, 2, 3, 3, 0, 3, 3, 3, 3, 2, 3, 3, 0, 3, 3, 2])"
   ]
  },
  {
   "cell_type": "code",
   "execution_count": 3,
   "id": "15dd8f2c",
   "metadata": {},
   "outputs": [],
   "source": [
    "#TUNING DO HIPERPARAMETROS\n",
    "\n",
    "def tuning(pipe, X_train, y_train):\n",
    "        \n",
    "    parameters = {\n",
    "        #'scaler': [StandardScaler(), MinMaxScaler(feature_range = (0, 1)), Normalizer(), MaxAbsScaler(), 'passthrough'],\n",
    "        #'balancing': [SMOTE(random_state=0), BorderlineSMOTE(random_state=0), SVMSMOTE(random_state=0), RandomOverSampler(random_state=0)],\n",
    "        'selector': [VarianceThreshold(), PCA(random_state=0), LinearDiscriminantAnalysis(), LocallyLinearEmbedding(random_state=0)],\n",
    "        'classifier': [RandomForestClassifier(random_state=0)],       \n",
    "        'classifier__max_depth': [80, 110],\n",
    "        'classifier__min_samples_leaf': [3, 10],\n",
    "        'classifier__min_samples_split': [8, 20],\n",
    "        'classifier__n_estimators': [100, 300]\n",
    "    }\n",
    "    \n",
    "    cv = StratifiedKFold(2, shuffle=True, random_state=0)\n",
    "    grid = GridSearchCV(pipe, parameters, cv=cv, scoring = 'accuracy', return_train_score=False)\n",
    "    grid.fit(X_train, y_train)\n",
    "\n",
    "    best_params_iteration.append(grid.best_params_)\n",
    "     \n",
    "    return grid"
   ]
  },
  {
   "cell_type": "code",
   "execution_count": 4,
   "id": "db15ae44",
   "metadata": {},
   "outputs": [],
   "source": [
    "#Avaliacao do modelo em kfold de 10\n",
    "def evaluate_model(model, X_train, y_train, n_folds):\n",
    "    # prepare the cross-validation procedure\n",
    "    cv = StratifiedKFold(n_folds, shuffle=True, random_state=0)\n",
    "    scores = cross_val_score(model, X_train, y_train, scoring='accuracy', cv=cv, n_jobs=-1)\n",
    "    return scores"
   ]
  },
  {
   "cell_type": "code",
   "execution_count": 5,
   "id": "cf89621d",
   "metadata": {},
   "outputs": [],
   "source": [
    "#INICIALIZAÇÃO DE VARIAVEIS\n",
    "best_params_iteration = []\n",
    "results_train = []\n",
    "accuracy_predict = []\n",
    "maior_acuracia_treino = 0\n",
    "mean_fit_time = []"
   ]
  },
  {
   "cell_type": "code",
   "execution_count": 6,
   "id": "6272332d",
   "metadata": {},
   "outputs": [],
   "source": [
    "#OVERSAMPLING\n",
    "oversample = SMOTE(random_state=0)"
   ]
  },
  {
   "cell_type": "code",
   "execution_count": 7,
   "id": "60f2b3e5",
   "metadata": {},
   "outputs": [
    {
     "name": "stdout",
     "output_type": "stream",
     "text": [
      "xxxxxxxxxxxxxxxxxxxxxxxxxxxxxxxxxxxxxxxxxxxxxxxxxxxxxxxxxx\n",
      "Iteração:  1\n",
      "xxxxxxxxxxxxxxxxxxxxxxxxxxxxxxxxxxxxxxxxxxxxxxxxxxxxxxxxxx\n",
      "Iteração:  2\n",
      "xxxxxxxxxxxxxxxxxxxxxxxxxxxxxxxxxxxxxxxxxxxxxxxxxxxxxxxxxx\n",
      "Iteração:  3\n",
      "xxxxxxxxxxxxxxxxxxxxxxxxxxxxxxxxxxxxxxxxxxxxxxxxxxxxxxxxxx\n",
      "Iteração:  4\n",
      "xxxxxxxxxxxxxxxxxxxxxxxxxxxxxxxxxxxxxxxxxxxxxxxxxxxxxxxxxx\n",
      "Iteração:  5\n",
      "xxxxxxxxxxxxxxxxxxxxxxxxxxxxxxxxxxxxxxxxxxxxxxxxxxxxxxxxxx\n",
      "Iteração:  6\n",
      "xxxxxxxxxxxxxxxxxxxxxxxxxxxxxxxxxxxxxxxxxxxxxxxxxxxxxxxxxx\n",
      "Iteração:  7\n",
      "xxxxxxxxxxxxxxxxxxxxxxxxxxxxxxxxxxxxxxxxxxxxxxxxxxxxxxxxxx\n",
      "Iteração:  8\n",
      "xxxxxxxxxxxxxxxxxxxxxxxxxxxxxxxxxxxxxxxxxxxxxxxxxxxxxxxxxx\n",
      "Iteração:  9\n",
      "xxxxxxxxxxxxxxxxxxxxxxxxxxxxxxxxxxxxxxxxxxxxxxxxxxxxxxxxxx\n",
      "Iteração:  10\n",
      "xxxxxxxxxxxxxxxxxxxxxxxxxxxxxxxxxxxxxxxxxxxxxxxxxxxxxxxxxx\n",
      "Iteração:  11\n",
      "xxxxxxxxxxxxxxxxxxxxxxxxxxxxxxxxxxxxxxxxxxxxxxxxxxxxxxxxxx\n",
      "Iteração:  12\n",
      "xxxxxxxxxxxxxxxxxxxxxxxxxxxxxxxxxxxxxxxxxxxxxxxxxxxxxxxxxx\n",
      "Iteração:  13\n",
      "xxxxxxxxxxxxxxxxxxxxxxxxxxxxxxxxxxxxxxxxxxxxxxxxxxxxxxxxxx\n",
      "Iteração:  14\n",
      "xxxxxxxxxxxxxxxxxxxxxxxxxxxxxxxxxxxxxxxxxxxxxxxxxxxxxxxxxx\n",
      "Iteração:  15\n",
      "xxxxxxxxxxxxxxxxxxxxxxxxxxxxxxxxxxxxxxxxxxxxxxxxxxxxxxxxxx\n",
      "Iteração:  16\n",
      "xxxxxxxxxxxxxxxxxxxxxxxxxxxxxxxxxxxxxxxxxxxxxxxxxxxxxxxxxx\n",
      "Iteração:  17\n",
      "xxxxxxxxxxxxxxxxxxxxxxxxxxxxxxxxxxxxxxxxxxxxxxxxxxxxxxxxxx\n",
      "Iteração:  18\n",
      "xxxxxxxxxxxxxxxxxxxxxxxxxxxxxxxxxxxxxxxxxxxxxxxxxxxxxxxxxx\n",
      "Iteração:  19\n",
      "xxxxxxxxxxxxxxxxxxxxxxxxxxxxxxxxxxxxxxxxxxxxxxxxxxxxxxxxxx\n",
      "Iteração:  20\n",
      "xxxxxxxxxxxxxxxxxxxxxxxxxxxxxxxxxxxxxxxxxxxxxxxxxxxxxxxxxx\n",
      "Iteração:  21\n",
      "xxxxxxxxxxxxxxxxxxxxxxxxxxxxxxxxxxxxxxxxxxxxxxxxxxxxxxxxxx\n",
      "Iteração:  22\n",
      "xxxxxxxxxxxxxxxxxxxxxxxxxxxxxxxxxxxxxxxxxxxxxxxxxxxxxxxxxx\n",
      "Iteração:  23\n",
      "xxxxxxxxxxxxxxxxxxxxxxxxxxxxxxxxxxxxxxxxxxxxxxxxxxxxxxxxxx\n",
      "Iteração:  24\n",
      "xxxxxxxxxxxxxxxxxxxxxxxxxxxxxxxxxxxxxxxxxxxxxxxxxxxxxxxxxx\n",
      "Iteração:  25\n",
      "xxxxxxxxxxxxxxxxxxxxxxxxxxxxxxxxxxxxxxxxxxxxxxxxxxxxxxxxxx\n",
      "Iteração:  26\n",
      "xxxxxxxxxxxxxxxxxxxxxxxxxxxxxxxxxxxxxxxxxxxxxxxxxxxxxxxxxx\n",
      "Iteração:  27\n",
      "xxxxxxxxxxxxxxxxxxxxxxxxxxxxxxxxxxxxxxxxxxxxxxxxxxxxxxxxxx\n",
      "Iteração:  28\n",
      "xxxxxxxxxxxxxxxxxxxxxxxxxxxxxxxxxxxxxxxxxxxxxxxxxxxxxxxxxx\n",
      "Iteração:  29\n",
      "xxxxxxxxxxxxxxxxxxxxxxxxxxxxxxxxxxxxxxxxxxxxxxxxxxxxxxxxxx\n",
      "Iteração:  30\n"
     ]
    }
   ],
   "source": [
    "#LAÇO\n",
    "for seed in range(1, 31):\n",
    "    print('xxxxxxxxxxxxxxxxxxxxxxxxxxxxxxxxxxxxxxxxxxxxxxxxxxxxxxxxxx')\n",
    "    print('Iteração: ', seed)\n",
    "    #Divisão da base em treino (80%) e teste (20%)\n",
    "    X_train, X_test, y_train, y_test = train_test_split(X, y, test_size=0.2, shuffle=True, stratify = y, random_state=seed)\n",
    "    \n",
    "    X_train, y_train = oversample.fit_resample(X_train, y_train)\n",
    "    \n",
    "    #normalização do x_treino e x_teste\n",
    "    normalizador = MinMaxScaler(feature_range = (0, 1))\n",
    "    X_train = normalizador.fit_transform(X_train)\n",
    "    X_test = normalizador.transform(X_test)\n",
    "          \n",
    "    pipe = Pipeline([#('scaler', StandardScaler()),\n",
    "                     #('balancing', SMOTE(random_state=0)),\n",
    "                     ('selector', VarianceThreshold()),\n",
    "                     ('classifier', RandomForestClassifier(random_state=0))\n",
    "                     ])               \n",
    "    \n",
    "    model_tuning = tuning(pipe, X_train, y_train)\n",
    "    \n",
    "    mean_fit_time.append((model_tuning.cv_results_['mean_fit_time']))\n",
    "\n",
    "    #Acurácia do treino\n",
    "    scores_train = evaluate_model(model_tuning, X_train, y_train, 10)\n",
    "    results_train.append(mean(scores_train))\n",
    "    \n",
    "    #Acurácia de teste\n",
    "    predict = model_tuning.predict(X_test)\n",
    "    accuracy_predict.append(accuracy_score(y_test, predict))\n",
    "\n",
    "    #Gravando a base de dados de treino da melhor predicao para a MC e plots\n",
    "    aux = max(float(results_train) for results_train in results_train)\n",
    "    if maior_acuracia_treino < aux:\n",
    "        maior_acuracia_treino = aux\n",
    "        best_X_train = X_train\n",
    "        best_y_train = y_train\n",
    "        best_X_test = X_test\n",
    "        best_y_test = y_test\n",
    "        best_model = model_tuning"
   ]
  },
  {
   "cell_type": "code",
   "execution_count": 8,
   "id": "8da676d4",
   "metadata": {},
   "outputs": [
    {
     "data": {
      "text/plain": [
       "[0.96,\n",
       " 0.95,\n",
       " 0.95,\n",
       " 0.93,\n",
       " 0.9200000000000002,\n",
       " 0.9400000000000001,\n",
       " 0.9400000000000001,\n",
       " 0.95,\n",
       " 0.93,\n",
       " 0.9800000000000001,\n",
       " 0.96,\n",
       " 0.95,\n",
       " 0.95,\n",
       " 0.93,\n",
       " 0.96,\n",
       " 0.93,\n",
       " 0.9099999999999999,\n",
       " 0.9600000000000002,\n",
       " 0.9200000000000002,\n",
       " 0.9400000000000001,\n",
       " 0.99,\n",
       " 0.96,\n",
       " 0.9400000000000001,\n",
       " 0.9200000000000002,\n",
       " 0.97,\n",
       " 0.97,\n",
       " 0.93,\n",
       " 0.9400000000000001,\n",
       " 0.9800000000000001,\n",
       " 0.93]"
      ]
     },
     "execution_count": 8,
     "metadata": {},
     "output_type": "execute_result"
    }
   ],
   "source": [
    "#PARA OS TESTES ESTATÍSTICOS\n",
    "results_train"
   ]
  },
  {
   "cell_type": "code",
   "execution_count": 9,
   "id": "0996812a",
   "metadata": {},
   "outputs": [
    {
     "name": "stdout",
     "output_type": "stream",
     "text": [
      "Média da acurácia do KNN nos dados de treino 94.6333%.\n",
      "Desvio padrao do KNN no dados de treino:  0.019576062480034677\n",
      "--------------------------------------------------------------\n",
      "A acurácia da predição do KNN foi de 92.1053%.\n",
      "Desvio padrao na predição do KNN:  0.061902732506587184\n",
      "--------------------------------------------------------------\n",
      "O mean_fit_time do KNN foi de 0.2787666693329811\n",
      "Desvio padrao do mean fit time do KNN:  0.15106587138169053\n"
     ]
    }
   ],
   "source": [
    "#Dados de treino\n",
    "print (\"Média da acurácia do RF nos dados de treino {:.4f}%.\".format(mean(results_train)*100))\n",
    "print(\"Desvio padrao do KNN no dados de treino: \", np.std(results_train))\n",
    "\n",
    "#Dados de teste\n",
    "print(\"--------------------------------------------------------------\")\n",
    "print (\"A acurácia da predição do RF foi de {:.4f}%.\".format(mean(accuracy_predict)*100))\n",
    "print(\"Desvio padrao na predição do KNN: \", np.std(accuracy_predict))\n",
    "\n",
    "#Dados de Tempo\n",
    "print(\"--------------------------------------------------------------\")\n",
    "print (\"O mean_fit_time do RF foi de\", (mean(mean_fit_time)))\n",
    "print(\"Desvio padrao do mean fit time do KNN: \", np.std(mean_fit_time))"
   ]
  },
  {
   "cell_type": "code",
   "execution_count": 10,
   "id": "18eb1857",
   "metadata": {},
   "outputs": [
    {
     "data": {
      "text/plain": [
       "<sklearn.metrics._plot.confusion_matrix.ConfusionMatrixDisplay at 0x1c37d1e7100>"
      ]
     },
     "execution_count": 10,
     "metadata": {},
     "output_type": "execute_result"
    },
    {
     "data": {
      "image/png": "[encoded data removed]",
      "text/plain": [
       "<Figure size 432x288 with 2 Axes>"
      ]
     },
     "metadata": {
      "needs_background": "light"
     },
     "output_type": "display_data"
    }
   ],
   "source": [
    "#Criando a matriz de confusão do melhor modelo\n",
    "from sklearn.metrics import plot_confusion_matrix\n",
    "plot_confusion_matrix(best_model, best_X_test, best_y_test, display_labels=[\"2-\", \"3\", \"2\", \"2+\"])"
   ]
  },
  {
   "cell_type": "code",
   "execution_count": 11,
   "id": "017135ca",
   "metadata": {},
   "outputs": [
    {
     "name": "stdout",
     "output_type": "stream",
     "text": [
      "Melhores parâmetros {'classifier': RandomForestClassifier(max_depth=80, min_samples_leaf=3, min_samples_split=8,\n",
      "                       n_estimators=300, random_state=0), 'classifier__max_depth': 80, 'classifier__min_samples_leaf': 3, 'classifier__min_samples_split': 8, 'classifier__n_estimators': 300, 'selector': PCA(random_state=0)}\n",
      "Melhor pipeline Pipeline(steps=[('selector', PCA(random_state=0)),\n",
      "                ('classifier',\n",
      "                 RandomForestClassifier(max_depth=80, min_samples_leaf=3,\n",
      "                                        min_samples_split=8, n_estimators=300,\n",
      "                                        random_state=0))])\n"
     ]
    }
   ],
   "source": [
    "# Access the best set of parameters of best model tunning\n",
    "best_params = best_model.best_params_\n",
    "print('Melhores parâmetros', best_params)\n",
    "# Stores the optimum model in best_pipe\n",
    "best_pipe = best_model.best_estimator_\n",
    "print('Melhor pipeline', best_pipe)"
   ]
  },
  {
   "cell_type": "code",
   "execution_count": 13,
   "id": "f2d280f3",
   "metadata": {},
   "outputs": [
    {
     "data": {
      "image/png": "[encoded data removed]",
      "text/plain": [
       "<Figure size 720x360 with 2 Axes>"
      ]
     },
     "metadata": {
      "needs_background": "light"
     },
     "output_type": "display_data"
    },
    {
     "data": {
      "image/png": "[encoded data removed]",
      "text/plain": [
       "<Figure size 720x360 with 2 Axes>"
      ]
     },
     "metadata": {
      "needs_background": "light"
     },
     "output_type": "display_data"
    }
   ],
   "source": [
    "#print('Resultados das colunas', result_df.columns)\n",
    "result_df = dataset.from_dict(best_model.cv_results_, orient='columns')\n",
    "\n",
    "sns.relplot(data=result_df, kind='line', \n",
    "            x='param_classifier__max_depth', \n",
    "            y='mean_test_score', \n",
    "            #hue='param_scaler',\n",
    "            col='param_classifier__n_estimators')\n",
    "plt.show()\n",
    "\n",
    "sns.relplot(data=result_df,\n",
    "            kind='line',\n",
    "            x='param_classifier__max_depth',\n",
    "            y='mean_test_score',\n",
    "            #hue='param_scaler',\n",
    "            col='param_classifier__min_samples_leaf')\n",
    "plt.show()"
   ]
  },
  {
   "cell_type": "code",
   "execution_count": 14,
   "id": "5b7a1f26",
   "metadata": {},
   "outputs": [
    {
     "name": "stdout",
     "output_type": "stream",
     "text": [
      "Feature: 0, Score: 0.01400\n",
      "Feature: 1, Score: 0.00000\n",
      "Feature: 2, Score: 0.00000\n",
      "Feature: 3, Score: 0.00800\n",
      "Feature: 4, Score: 0.00200\n",
      "Feature: 5, Score: 0.00600\n",
      "Feature: 6, Score: 0.01400\n",
      "Feature: 7, Score: 0.01400\n",
      "Feature: 8, Score: 0.01000\n",
      "Feature: 9, Score: 0.02200\n",
      "Feature: 10, Score: 0.06200\n",
      "Feature: 11, Score: 0.01000\n",
      "Feature: 12, Score: 0.01000\n",
      "Feature: 13, Score: 0.47400\n",
      "Feature: 14, Score: 0.01400\n",
      "Feature: 15, Score: 0.00000\n",
      "Feature: 16, Score: 0.01000\n",
      "Feature: 17, Score: 0.01600\n"
     ]
    },
    {
     "data": {
      "image/png": "[encoded data removed]",
      "text/plain": [
       "<Figure size 432x288 with 1 Axes>"
      ]
     },
     "metadata": {
      "needs_background": "light"
     },
     "output_type": "display_data"
    }
   ],
   "source": [
    "#FEATURE IMPORTANCE\n",
    "# perform permutation importance\n",
    "from sklearn.inspection import permutation_importance\n",
    "\n",
    "results = permutation_importance(best_model, best_X_train, best_y_train, scoring='accuracy')\n",
    "# get importance\n",
    "importance = results.importances_mean\n",
    "# summarize feature importance\n",
    "for i,v in enumerate(importance):\n",
    "    print('Feature: %0d, Score: %.5f' % (i,v))\n",
    "    \n",
    "\n",
    "# plot feature importance\n",
    "pyplot.bar([x for x in range(len(importance))], importance)\n",
    "pyplot.show()"
   ]
  },
  {
   "cell_type": "code",
   "execution_count": 15,
   "id": "c8b1cc6c",
   "metadata": {},
   "outputs": [
    {
     "name": "stdout",
     "output_type": "stream",
     "text": [
      "Feature: medianR, Score: 0.01400\n",
      "Feature: medianG, Score: 0.00000\n",
      "Feature: medianB, Score: 0.00000\n",
      "Feature: histR, Score: 0.00800\n",
      "Feature: histG, Score: 0.00200\n",
      "Feature: histB, Score: 0.00600\n",
      "Feature: R, Score: 0.01400\n",
      "Feature: G, Score: 0.01400\n",
      "Feature: B, Score: 0.01000\n",
      "Feature: saturationHSV, Score: 0.02200\n",
      "Feature: hueHSV, Score: 0.06200\n",
      "Feature: valueHSV, Score: 0.01000\n",
      "Feature: saturationHSI, Score: 0.01000\n",
      "Feature: hueHSI, Score: 0.47400\n",
      "Feature: intensityHSI, Score: 0.01400\n",
      "Feature: lLab, Score: 0.00000\n",
      "Feature: aLab, Score: 0.01000\n",
      "Feature: bLab, Score: 0.01600\n"
     ]
    },
    {
     "data": {
      "image/png": "[encoded data removed]",
      "text/plain": [
       "<Figure size 792x504 with 1 Axes>"
      ]
     },
     "metadata": {
      "needs_background": "light"
     },
     "output_type": "display_data"
    }
   ],
   "source": [
    "#FEATURE IMPORTANCE\n",
    "for i,v in enumerate(importance):\n",
    "    if i == 0:\n",
    "        print('Feature: medianR, Score: %.5f' % (v))\n",
    "    if i == 1:\n",
    "        print('Feature: medianG, Score: %.5f' % (v))\n",
    "    if i == 2:\n",
    "        print('Feature: medianB, Score: %.5f' % (v))\n",
    "    if i == 3:\n",
    "        print('Feature: histR, Score: %.5f' % (v))\n",
    "    if i == 4:\n",
    "        print('Feature: histG, Score: %.5f' % (v))\n",
    "    if i == 5:\n",
    "        print('Feature: histB, Score: %.5f' % (v))\n",
    "    if i == 6:\n",
    "        print('Feature: R, Score: %.5f' % (v))\n",
    "    if i == 7:\n",
    "        print('Feature: G, Score: %.5f' % (v))\n",
    "    if i == 8:\n",
    "        print('Feature: B, Score: %.5f' % (v))\n",
    "    if i == 9:\n",
    "        print('Feature: saturationHSV, Score: %.5f' % (v))\n",
    "    if i == 10:\n",
    "        print('Feature: hueHSV, Score: %.5f' % (v))\n",
    "    if i == 11:\n",
    "        print('Feature: valueHSV, Score: %.5f' % (v))\n",
    "    if i == 12:\n",
    "        print('Feature: saturationHSI, Score: %.5f' % (v))\n",
    "    if i == 13:\n",
    "        print('Feature: hueHSI, Score: %.5f' % (v))\n",
    "    if i == 14:\n",
    "        print('Feature: intensityHSI, Score: %.5f' % (v))\n",
    "    if i == 15:\n",
    "        print('Feature: lLab, Score: %.5f' % (v))\n",
    "    if i == 16:\n",
    "        print('Feature: aLab, Score: %.5f' % (v))\n",
    "    if i == 17:\n",
    "        print('Feature: bLab, Score: %.5f' % (v))\n",
    "        \n",
    "# plot feature importance\n",
    "import matplotlib.pyplot as plt\n",
    "list_features = [\"medianR\", \"medianG\", \"medianB\", \"histR\", \"histG\", \"histB\", \"R\", \"G\", \"B\", \"saturationHSV\", \"hueHSV\", \n",
    "                 \"valueHSV\", \"saturationHSI\", \"hueHSI\", \"intensityHSI\", \"lLab\", \"aLab\", \"bLab\"]\n",
    "plt.rcParams['figure.figsize'] = (11,7)\n",
    "plt.xticks(rotation=58)\n",
    "plt.bar([x for x in list_features], importance)\n",
    "plt.show()"
   ]
  },
  {
   "cell_type": "code",
   "execution_count": 33,
   "id": "de84afdf",
   "metadata": {},
   "outputs": [
    {
     "data": {
      "image/png": "[encoded data removed]",
      "text/plain": [
       "<Figure size 576x396 with 1 Axes>"
      ]
     },
     "metadata": {},
     "output_type": "display_data"
    }
   ],
   "source": [
    "#ROC CURVE\n",
    "from sklearn.metrics import roc_curve\n",
    "pred = best_model.predict(best_X_test)\n",
    "pred_prob = best_model.predict_proba(best_X_test)\n",
    "\n",
    "# roc curve for classes\n",
    "fpr = {}\n",
    "tpr = {}\n",
    "thresh ={}\n",
    "\n",
    "n_class = 4\n",
    "\n",
    "for i in range(n_class):    \n",
    "    fpr[i], tpr[i], thresh[i] = roc_curve(best_y_test, pred_prob[:,i], pos_label=i)\n",
    "    \n",
    "# plotting    \n",
    "plt.plot(fpr[0], tpr[0], linestyle='--',color='orange', label='Class 0 vs Rest')\n",
    "plt.plot(fpr[1], tpr[1], linestyle='--',color='green', label='Class 1 vs Rest')\n",
    "plt.plot(fpr[2], tpr[2], linestyle='--',color='blue', label='Class 2 vs Rest')\n",
    "plt.plot(fpr[3], tpr[3], linestyle='--',color='red', label='Class 3 vs Rest')\n",
    "plt.title('Multiclass ROC curve')\n",
    "plt.xlabel('False Positive Rate')\n",
    "plt.ylabel('True Positive rate')\n",
    "plt.legend(loc='best')\n",
    "plt.savefig('Multiclass ROC',dpi=300);   "
   ]
  },
  {
   "cell_type": "code",
   "execution_count": 31,
   "id": "e2c6bb01",
   "metadata": {},
   "outputs": [
    {
     "name": "stdout",
     "output_type": "stream",
     "text": [
      "              precision    recall  f1-score   support\n",
      "\n",
      "           0       0.71      0.83      0.77         6\n",
      "           1       1.00      0.50      0.67         4\n",
      "           2       0.67      1.00      0.80         4\n",
      "           3       1.00      0.80      0.89         5\n",
      "\n",
      "    accuracy                           0.79        19\n",
      "   macro avg       0.85      0.78      0.78        19\n",
      "weighted avg       0.84      0.79      0.79        19\n",
      "\n"
     ]
    }
   ],
   "source": [
    "#METRICS REPORT\n",
    "from sklearn.metrics import classification_report\n",
    "pred = best_model.predict(best_X_test)\n",
    "report = classification_report(best_y_test, pred)\n",
    "print(report)"
   ]
  }
 ],
 "metadata": {
  "kernelspec": {
   "display_name": "Python 3",
   "language": "python",
   "name": "python3"
  },
  "language_info": {
   "codemirror_mode": {
    "name": "ipython",
    "version": 3
   },
   "file_extension": ".py",
   "mimetype": "text/x-python",
   "name": "python",
   "nbconvert_exporter": "python",
   "pygments_lexer": "ipython3",
   "version": "3.8.8"
  }
 },
 "nbformat": 4,
 "nbformat_minor": 5
}
